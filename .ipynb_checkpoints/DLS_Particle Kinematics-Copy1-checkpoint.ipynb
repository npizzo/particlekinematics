{
 "cells": [
  {
   "cell_type": "markdown",
   "metadata": {},
   "source": [
    "Particle kinematics in steep and breaking waves\n",
    "------\n",
    "\n",
    "In this notebook, we will examine particle kinematics in steep and breaking waves. We will study several properties of these waves as they focus and break, including particle velocities and accelerations, as well as the phase velocity. We're also interested in the spatial distribution of these quantities. That is, how does the ratio of the horizontal velocity, divided by the phase velocity, at the crest compare with that at the steepest part of the wave? \n",
    "\n",
    "Here, we list some specific goals of this study\n",
    "-------------\n",
    "* Better understand the kinematic breaking criteria. Why does it work? Is it related to a fundamental property of surface waves (i.e. an instability)? \n",
    "\n",
    "* Better understand the relationship between bandwidth, slope, and wave breaking. This can include geometric and kinematic criteria. \n",
    "\n",
    "* Better understand the relationship between bandwidth, slope, and $h$, the height of the wave at breaking. \n",
    "\n",
    "* Better understand kinematics at breaking, including the velocity and acceleration. How do these variables relate to the packet bandwidth and slope? \n",
    "\n",
    "Background\n",
    "----------\n",
    "We should start with some definitions. \n",
    "\n",
    "We let $(x,y)$ define the horizontal and vertical axis, with their associated velocities being $(u,v)$. The velocity field may be defined in the $\\textbf{Eulerian}$ framework, in which it is evaluated at a point in space, or the $\\textbf{Lagrangian}$ framework, in which it is defined for a fluid particle, which was at location $(x_0,y_0)$ at $t=0$. \n",
    "\n",
    "The phase velocity is defined as the speed at which a fixed phase of the wave is traveling. This could, for example, be the crest of the wave. However, as the wave steepens, different phases of the wave travel at different speeds, and the notion of the phase may even break down at wave breaking. Then, we seek a more geometric defintion. Longuet-Higgins sorted this out in 1957. If we track the crest of the wave, with wave height $\\eta$, then the speed at which the tallest part of the wave, i.e. the crest, moves is given by\n",
    "$$ \\frac{d\\eta_x}{dt} =0 = \\eta_{xt}+c_m\\eta_{xx},$$\n",
    "from which the phase velocity of the maximum height $c_m$ may be extracted. Similarly, if we were instead interested in the speed at which the steepest part of the wave travelled, we would find $c_s$ through the relationship \n",
    "$$ \\frac{d\\eta_{xx}}{dt} =0=\\eta_{xxt}+c_s\\eta_{xxx}.$$\n",
    "\n",
    "In general, we expect $c_{m} \\neq c_{s}$."
   ]
  },
  {
   "cell_type": "markdown",
   "metadata": {},
   "source": [
    "Is there a good example that explicitly shows when $c_m \\neq c_s$? This should fall out of linear theory, and is likely most simply described for narrow banded waves. \n",
    "\n",
    "Let's take a very simple example where $$\\eta = \\sum_n a_n \\cos \\theta_n,$$\n",
    "where $\\theta_n = k_n x- \\omega_t$ and $\\omega_n^2= gk_n$. Then \n",
    "$$c_m = \\frac{\\sum k_n\\omega_n \\cos \\theta_n}{\\sum k_n^2 \\cos \\theta_n}.$$\n",
    "A critical point occurs when both numerator and denominator have minima, which occurs at $x=t=0$, so that there is a critical point (this turns out to be a minima) at $x=t=0$, and the phase velocity here is given by\n",
    "$$min(c_m)=\\frac{\\sum a_nk_n\\omega_n}{\\sum a_n k_n^2 }.$$\n",
    "\n",
    "Meanwhile, if we did the same thing for minimum speed of the maximum slope, we have \n",
    "$$min(c_s) = \\frac{\\sum a_nk_n^2\\omega_n}{\\sum a_n k_n^3 }.$$\n",
    "\n",
    "The value of these two functions may be easily compared, based on the functional form of the wave packet. Note, for monochromatic waves, i.e. those with one wave component, the two definitions are equivalent.  \n",
    "\n",
    "Of equal is interest is the propagation characteristics of these critical points. That is, how does $c_m$ evolve? This is a messier question. \n",
    "\n",
    "We can do the same thing with the fluid velocity at these points, given by derivatives of \n",
    "\n",
    "$$\\phi =\\sum a_n \\omega_n /k_n \\sin \\theta_n.$$\n",
    "\n",
    "Then, $$u=\\phi_x = \\sum a_n \\omega_n \\cos \\theta_n,$$\n",
    "which is largest at $x=t=0$ and coincides with the critical point (a minima) of $c_m$ at that location. Their ratio is then \n",
    "$$ max\\left(\\frac{u}{c_m} \\right) = \\sum a_n \\omega_n\\frac{\\sum a_n k_n^2}{\\sum a_n k_n\\omega_n }.$$\n",
    "\n",
    "\n",
    "Note the limiting behavior for 1 wave, whence we return the linear prediction that this ratio is $a_0k_0$. Good! What's the scaling as a function of bandwidth and slope? \n",
    "\n",
    "It's not obvious how to evaluate $u$ at the steepest part of the wave. \n",
    "\n",
    "We next ask ourselves the question of what relevance this parameter has in predicting breaking? For monochromatic waves, it's closely related to wave slope, as we've seen. Then, it's likely related with the superharmonic instability of surface waves, which rapidly leads to wave over turning. \n"
   ]
  },
  {
   "cell_type": "markdown",
   "metadata": {},
   "source": [
    "Numerics\n",
    "------------\n",
    "To this end, we will examine these kinematics by integrating the fully nonlinear potential flow equations. The dependent variables of the system are the particle positions $(x,y)$, and the velocity potential $\\phi$. "
   ]
  },
  {
   "cell_type": "markdown",
   "metadata": {},
   "source": [
    "The numerical scheme is due to Dold (1991). The boundary conditions are assumed to be periodic, and we work in infinitely deep water. \n",
    "\n",
    "We would like to begin by validating some of our processing. This is most easily done by considering a periodic wave. "
   ]
  },
  {
   "cell_type": "code",
   "execution_count": 2,
   "metadata": {},
   "outputs": [],
   "source": [
    "imatlab_export_fig('print-png')"
   ]
  },
  {
   "cell_type": "code",
   "execution_count": 3,
   "metadata": {
    "scrolled": false
   },
   "outputs": [
    {
     "data": {
      "image/png": "[encoded data removed]"
     },
     "metadata": {},
     "output_type": "display_data"
    }
   ],
   "source": [
    "%% Begin Matlab code \n",
    "cd /Users/airsealab/Documents/github/ParticleKinematics//\n",
    "%\n",
    "N = 512; % number of spectral modes\n",
    "ML = 2*pi;\n",
    "wl = 2*pi;\n",
    "g = 1; \n",
    "xi = 0:1/N:1-1/N; \n",
    "x = xi;\n",
    "% a=0.275;\n",
    "a = 0.5;\n",
    "y = a*cos(2*pi*xi);\n",
    "f = a*sin(2*pi*xi);\n",
    "xi2 = 0:max(xi)/(N-1):max(xi);\n",
    "xx = interp1(xi,x,xi2)';\n",
    "% look at initial conditions\n",
    "clf\n",
    "yy = interp1(x,y,xx);\n",
    "ff = interp1(x,f,xx);\n",
    "clf\n",
    "p1 = plot(xx,yy);\n",
    "hold on\n",
    "p2 = plot(xx,ff);\n",
    "x3 = xx*2*pi;\n",
    "l1 = legend([p1 p2],'$Y$','$\\phi$');\n",
    "set(l1,'interpreter','latex')\n",
    "set(gcf, 'Position',  [100, 100, 300, 200])\n",
    "set(gcf,'color','w');"
   ]
  },
  {
   "cell_type": "markdown",
   "metadata": {},
   "source": [
    "Now execute the code"
   ]
  },
  {
   "cell_type": "code",
   "execution_count": 4,
   "metadata": {},
   "outputs": [
    {
     "name": "stdout",
     "output_type": "stream",
     "text": [
      "\u001b[01m\u001b[Kdold.f:291:21:\u001b[m\u001b[K\n",
      "\n",
      "       common /profil/ x(-6:N7),y(-6:N7),f(-6:N7),\n",
      "                     \u001b[01;35m\u001b[K1\u001b[m\u001b[K\n",
      "\u001b[01;35m\u001b[KWarning:\u001b[m\u001b[K Named COMMON block '\u001b[01m\u001b[Kprofil\u001b[m\u001b[K' at (1) shall be of the same size as elsewhere (98856 vs 98840 bytes)\n",
      "   0.0000000000000000     \n",
      "   3.7001573218806955E-002\n",
      "  0.14200998675815213     \n",
      "  0.24581641606629728     \n",
      "  0.34445528678017528     \n",
      "  0.43530092103539242     \n",
      "  0.50000000028566660     \n",
      "  0.55752925007961451     \n",
      "  0.59144945386571879     \n",
      "  0.62249855299466628     \n",
      "  0.65245413252573148     \n",
      "  0.68563830162553752     \n",
      "  0.72266277288082914     \n",
      "  0.75812936840157974     \n",
      "  0.80061219181360210     \n",
      "  0.84828977807990202     \n",
      "  0.90127955702453710     \n",
      "  0.96056903949203609     \n",
      "   1.0000000005713332     \n",
      "   1.0632968344709051     \n",
      "   1.1199067452805025     \n",
      "   1.1646750731018343     \n",
      "   1.2000101106440109     \n",
      "   1.2319427576852133     \n",
      "   1.2536364865676635     \n",
      "   1.2714041626035064     \n",
      "   1.2849610693551337     \n",
      "   1.2992873151117503     \n",
      "   1.3106087185935320     \n",
      "   1.3216112953653865     \n",
      "   1.3308708924429427     \n",
      "   1.3395837554613528     \n",
      "   1.3467045632495582     \n",
      "   1.3533321261600064     \n",
      "   1.3603900963280569     \n",
      "   1.3658281076367833     \n",
      "   1.3711310448663243     \n",
      "   1.3762104049317541     \n",
      "   1.3811109573066924     \n",
      "   1.3858743544180749     \n",
      "   1.3901948684293823     \n",
      "   1.3943782015372785     \n",
      "   1.3985319423940412     \n",
      "   1.4027429353208003     \n",
      "   1.4069758852663727     \n",
      "   1.4111574023117708     \n",
      "   1.4154713899475642     \n",
      "   1.4196747247707617     \n",
      "   1.4234930121136000     \n",
      "   1.4274705605327924     \n",
      "   1.4315134522565647     \n",
      "   1.4355228576235357     \n",
      "   1.4394654680837129     \n",
      "   1.4433705338364373     \n",
      "   1.4472552754498085     \n",
      "   1.4511180410475322     \n",
      "   1.4549579179506151     \n",
      "   1.4587913477755030     \n",
      "   1.4625264203816493     \n",
      "   1.4664411102758723     \n",
      "   1.4696597550434010     \n",
      "   1.4731754747549621     \n",
      "   1.4769308856602381     \n",
      "   1.4800361689691970     \n",
      "   1.4829678448157564     \n",
      "   1.4856165844931231     \n",
      "   1.4878746586802747     \n",
      "   1.4894011592010654     \n",
      "   1.4904612563316544     \n",
      "   1.4911305440331695     \n",
      "Note: The following floating-point exceptions are signalling: IEEE_INVALID_FLAG\n",
      "STOP data is no longer intelligible\n"
     ]
    }
   ],
   "source": [
    "%%\n",
    "tl=15;\n",
    "delete xc.txt\n",
    "delete yc.txt \n",
    "delete fc.txt \n",
    "delete bw.txt\n",
    "delete wl.txt\n",
    "delete S.txt\n",
    "% delete k.txt\n",
    "BW=1;\n",
    "% save xc.txt x_f -ascii\n",
    "% save yc.txt y_f -ascii\n",
    "% save fc.txt f_f -ascii\n",
    "save xc.txt x3 -ascii\n",
    "save yc.txt yy -ascii\n",
    "save fc.txt ff -ascii\n",
    "save S.txt a -ascii\n",
    "save bw.txt BW -ascii\n",
    "save tl.txt tl -ascii\n",
    "save wl.txt wl -ascii \n",
    "% save k.txt k -ascii\n",
    "unix('./run2.sh'); "
   ]
  },
  {
   "cell_type": "markdown",
   "metadata": {},
   "source": [
    "Next load the data"
   ]
  },
  {
   "cell_type": "code",
   "execution_count": 5,
   "metadata": {},
   "outputs": [],
   "source": [
    "%%\n",
    "formatSpec='%f'; \n",
    "fileID = fopen(['x.txt'], 'r');\n",
    "xout = fscanf(fileID,formatSpec);\n",
    "fclose(fileID); \n",
    "fileID = fopen(['y.txt'], 'r');\n",
    "yout = fscanf( fileID, formatSpec);\n",
    "fclose( fileID );\n",
    "fileID = fopen(['phi.txt'], 'r');\n",
    "pout = fscanf(fileID,formatSpec);\n",
    "fclose(fileID);\n",
    "fileID = fopen(['t.txt'], 'r');\n",
    "to = fscanf(fileID,formatSpec);\n",
    "fclose(fileID);\n",
    "t = to(1:N:end);\n",
    "nout_0 = length(t);\n",
    "nout = round(nout_0)-1;\n",
    "data_o = zeros(N,nout_0);\n",
    "x_o = zeros(N,nout_0);\n",
    "y_o = zeros(N,nout_0);\n",
    "p_o = zeros(N,nout_0);\n",
    "for i = 1:N\n",
    "for j = 1:nout_0\n",
    "x_o(i,j) = xout(i+N*(j-1),1);\n",
    "y_o(i,j) = yout(i+N*(j-1),1);\n",
    "p_o(i,j) = pout(i+N*(j-1),1);\n",
    "end\n",
    "end\n",
    "xi = 0:2*pi/N:2*pi*(1-1/N);\n",
    "dxi = abs(xi(2)-xi(1));\n",
    "% reinterpolate\n",
    "M = 1*N;\n",
    "xi2 = 0:2*pi/M:2*pi*(1-1/M);\n",
    "x_1 = zeros(M,length(t));\n",
    "y_1 = x_1;\n",
    "for i = 1:length(t)\n",
    "    x_1(:,i) = interp1(xi,x_o(:,i),xi2);\n",
    "    y_1(:,i) =  interp1(xi,y_o(:,i),xi2);\n",
    "end\n",
    "t2 = 0: max(t)/1000 :max(t);\n",
    "x_2 = zeros(M,length(t2));\n",
    "y_2 = x_2;\n",
    "for i = 1:M\n",
    "    x_2(i,:) = interp1(t,x_1(i,:),t2);\n",
    "    y_2(i,:) = interp1(t,y_1(i,:),t2);\n",
    "end"
   ]
  },
  {
   "cell_type": "markdown",
   "metadata": {},
   "source": [
    "Load a movie to view this"
   ]
  },
  {
   "cell_type": "code",
   "execution_count": 7,
   "metadata": {},
   "outputs": [
    {
     "data": {
      "image/png": "[encoded data removed]"
     },
     "metadata": {},
     "output_type": "display_data"
    }
   ],
   "source": [
    "%%\n",
    "clf\n",
    "set(gca,'fontsize',28)\n",
    "for i=1:1:length(t)\n",
    "plot(x_o(:,i),y_o(:,i),'.r')\n",
    "xlim([0 2*pi])\n",
    "ylim([-1 1]) \n",
    "pause(0.1)\n",
    "hold off\n",
    "end\n",
    "% set(gca,'fontsize',28)\n",
    "xlabel('X','interpreter','latex')\n",
    "ylabel('$Y$','interpreter','latex')\n",
    "set(gcf, 'Position',  [100, 100, 300, 200])\n",
    "set(gcf,'color','w');"
   ]
  },
  {
   "cell_type": "markdown",
   "metadata": {},
   "source": [
    "It looks like it'll be tough to watch this as a movie, so we'll have to think about how we display the data"
   ]
  },
  {
   "cell_type": "code",
   "execution_count": 8,
   "metadata": {},
   "outputs": [],
   "source": [
    "%% compute velocity \n",
    "u = zeros(N,length(t));\n",
    "v = zeros(N,length(t));\n",
    "for i = 1:N\n",
    "   u(i,:) = gradient(x_o(i,:))./gradient(t');\n",
    "   v(i,:) = gradient(y_o(i,:))./gradient(t');\n",
    "end \n",
    "% compute accelerations \n",
    "ax = u; ay = u;\n",
    "for i=1:N\n",
    "    ax(i,:)=gradient(u(i,:))./gradient(t');\n",
    "    ay(i,:)=gradient(v(i,:))./gradient(t');\n",
    "end"
   ]
  },
  {
   "cell_type": "code",
   "execution_count": 9,
   "metadata": {},
   "outputs": [],
   "source": [
    "%% find phase speed of max, max slope, max curvature\n",
    "m = zeros(length(t),1);\n",
    "ind = m;\n",
    "xm = m; mx = m; indx = m;\n",
    "xsm = xm; um = m; usm = m;\n",
    "for i=1:length(t)\n",
    "    \n",
    "    [m(i),ind(i)]=max(y_o(:,i));\n",
    "    \n",
    "    xm(i,1)=x_o(ind(i),i);\n",
    "    \n",
    "    um(i,1)=u(ind(i),i);\n",
    "    \n",
    "    [mx(i), indx(i)] = min((gradient(y_o(:,i))./...\n",
    "    gradient(x_o(:,i))));\n",
    "\n",
    "    xsm(i,1)=x_o(indx(i),i);\n",
    "    \n",
    "    usm(i,1)=u(indx(i),i);\n",
    "end"
   ]
  },
  {
   "cell_type": "markdown",
   "metadata": {},
   "source": [
    "We should corroborate this visually. "
   ]
  },
  {
   "cell_type": "code",
   "execution_count": 10,
   "metadata": {},
   "outputs": [
    {
     "data": {
      "image/png": "[encoded data removed]"
     },
     "metadata": {},
     "output_type": "display_data"
    }
   ],
   "source": [
    "%% look at the ratios of u/c\n",
    "cm=gradient(smooth(unwrap(xm),5))./gradient(t);\n",
    "cmx=gradient(smooth(unwrap(xsm),5))./gradient(t);\n",
    "clf\n",
    "p1=plot(t,smooth(um./cm,5),'r','linewidth',3);\n",
    "hold on\n",
    "p2=plot(t,smooth(usm./cmx,5),'k','linewidth',3);\n",
    "ylim([-1 3])\n",
    "xlim([0 1.5])\n",
    "set(gca,'fontsize',12)\n",
    "xlabel('x','interpreter','latex')\n",
    "ylabel('y','interpreter','latex')\n",
    "set(gcf, 'Position',  [100, 100, 300, 200])\n",
    "set(gcf,'color','w');\n",
    "l1=legend([p1 p2],'$u(max(\\eta))/c(max(\\eta))$',...\n",
    "    '$u(max(|\\eta_x|))/c(max(|\\eta_x|))$');\n",
    "set(l1,'interpreter','latex')"
   ]
  },
  {
   "cell_type": "markdown",
   "metadata": {},
   "source": []
  },
  {
   "cell_type": "markdown",
   "metadata": {},
   "source": [
    "Wave packets\n",
    "-----------------\n",
    "We now move from studying individual waves, to wave packets. \n",
    "\n",
    "Definitions: \n",
    "\n",
    "Wave packet slope\n",
    "\n",
    "Wave packet bandwidth\n",
    "\n",
    "Focusing location\n",
    "\n",
    "Central wavenumber/frequency"
   ]
  },
  {
   "cell_type": "code",
   "execution_count": 2,
   "metadata": {},
   "outputs": [
    {
     "name": "stdout",
     "output_type": "stream",
     "text": [
      "hello from MATLAB\n"
     ]
    }
   ],
   "source": [
    "disp('hello from MATLAB')"
   ]
  }
 ],
 "metadata": {
  "kernelspec": {
   "display_name": "MATLAB",
   "language": "matlab",
   "name": "imatlab"
  },
  "language_info": {
   "codemirror_mode": "octave",
   "file_extension": ".m",
   "mimetype": "text/x-matlab",
   "name": "matlab",
   "nbconvert_exporter": "imatlab._exporter.MatlabExporter",
   "pygments_lexer": "matlab",
   "version": "9.4.0.813654 (R2018a)"
  }
 },
 "nbformat": 4,
 "nbformat_minor": 4
}
