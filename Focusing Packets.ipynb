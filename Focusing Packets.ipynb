{
 "cells": [
  {
   "cell_type": "markdown",
   "metadata": {},
   "source": [
    "Focusing packets\n",
    "---\n",
    "We now want to loop a series of focusing packets, adjusting two parameters\n",
    "* The linear prediction of the maximum slope at focusing\n",
    "* The bandwidth\n",
    "\n",
    "\n",
    "To get some insight into this, we'll start by looking at this for one case, then loop through a 10x10 lattice in parameter space, and eventually do this for many runs. \n",
    "\n",
    "Goals\n",
    "----\n",
    "* Establish how we will run/save the data. This includes how we'll make cell structures\n",
    "* Establish low resolution results regarding breaking criteria / breaking threshold. \n",
    "\n",
    "Things to be wary of\n",
    "-----\n",
    "* The \"relative\" resolution will be dependent on the bandwidth chosen, so that we need to think about how to choose the physical size of the domain. I think we likely want to say it should be X * the packet width. How do other people do this? \n",
    "\n",
    "Data flow\n",
    "-----\n",
    "For each run, we'll create a mat file (we should put the BW/S in the filename), which has a structure including the variables, (x,y,phi,t), as well as S, Delta, wl, x_b, N, g, k, w, M, x_f, y_f, f_f. "
   ]
  },
  {
   "cell_type": "code",
   "execution_count": 187,
   "metadata": {
    "scrolled": true
   },
   "outputs": [
    {
     "name": "stdout",
     "output_type": "stream",
     "text": [
      "\u001b[01m\u001b[Kdold.f:291:21:\u001b[m\u001b[K\n",
      "\n",
      "       common /profil/ x(-6:N7),y(-6:N7),f(-6:N7),\n",
      "                     \u001b[01;35m\u001b[K1\u001b[m\u001b[K\n",
      "\u001b[01;35m\u001b[KWarning:\u001b[m\u001b[K Named COMMON block '\u001b[01m\u001b[Kprofil\u001b[m\u001b[K' at (1) shall be of the same size as elsewhere (98856 vs 98840 bytes)\n",
      " water is  effectively \"deep\"\n",
      "Note: The following floating-point exceptions are signalling: IEEE_INVALID_FLAG IEEE_DIVIDE_BY_ZERO IEEE_OVERFLOW_FLAG IEEE_UNDERFLOW_FLAG IEEE_DENORMAL\n",
      "STOP data is no longer intelligible\n",
      "\n",
      "ii =\n",
      "\n",
      "    10\n",
      "\n",
      "\n",
      "jj =\n",
      "\n",
      "    10\n",
      "\n",
      "broken\n"
     ]
    },
    {
     "data": {
      "image/png": "[encoded data removed]"
     },
     "metadata": {},
     "output_type": "display_data"
    }
   ],
   "source": [
    "imatlab_export_fig('print-png')\n",
    "cd /Users/airsealab/Documents/GitHub/particlekinematics/\n",
    "N = 512;\n",
    "ML = 100;\n",
    "xo = -30;\n",
    "x = xo:ML/N:xo+(ML)*(1-1/N);\n",
    "wl = ML;\n",
    "g = 9.81; \n",
    "% g=1;\n",
    "k = (2*pi)^2/g; \n",
    "% k=2*pi;\n",
    "w = sqrt(g*k); cg=g/2/w; \n",
    "tstart = cputime;\n",
    "\n",
    "for ii = 1\n",
    "for jj=1\n",
    "D = 0.5+(jj-1)*0.25;\n",
    "xb = 15 / D;\n",
    "tb = xb / cg;\n",
    "S = 0.1 + (ii-1)*0.1;\n",
    "M = 32;\n",
    "kn = zeros(M,1);\n",
    "wn = zeros(M,1);\n",
    "an = zeros(M,1);\n",
    "for i = 1 : M\n",
    "    kn(i) = k*(1+D*(i-M/2)/M);\n",
    "    wn(i) = sqrt(g*kn(i));\n",
    "    an(i) = S/kn(i)/M;\n",
    "end\n",
    "\n",
    "eta1 = zeros(length(x),1);\n",
    "for i = 1 : M\n",
    "    eta1(:,1) = eta1(:,1) + an(i)*cos(kn(i)*(x'-xb)+wn(i)*tb);\n",
    "end\n",
    "clf\n",
    "%plot(x,eta1)\n",
    "filt1=1/2*(tanh(0.25*(x--15))-tanh(0.25*(x-10)));\n",
    "eta2=eta1.*filt1';\n",
    "hold on\n",
    "%plot(x,eta2)\n",
    "%\n",
    "I=sqrt(-1);\n",
    "Fs=1/(abs(x(2)-x(1)));\n",
    "\n",
    "[out,freq]=positiveFFT(eta2',Fs);\n",
    "eta=zeros(1,length(x)); \n",
    "    for j=1:length(x)\n",
    "        eta(1,j) = sum(real(2*out(2:end).*exp(I*(2*pi*freq(2:end)*(x(j)+30)))));\n",
    "    end\n",
    "eps2=sum((abs(2*out(2:end)).*2.*pi.*freq(2:end)));\n",
    "phi=zeros(1,length(x)); \n",
    "    for j=1:length(x)\n",
    "        phi(1,j) = sum(imag(2*sqrt(g)*out(2:end)./sqrt(2*pi*(freq(2:end))).*...\n",
    "           exp(I*((2*pi*freq(2:end))*(x(j)+30)-sqrt(g*2*pi*freq(2:end))*(0-0*tb)))));\n",
    "    end\n",
    "% BW=powerbw(eta,2*pi*Fs,[],10)/k \n",
    "BW=D;\n",
    "%\n",
    "clf\n",
    "x_f=(x)'-xo;\n",
    "% x_f2=(x)'-xo+30;\n",
    "y_f=eta;\n",
    "f_f=phi;\n",
    "plot(x_f,y_f,'k')\n",
    "hold on\n",
    "plot(x_f,f_f,'r')\n",
    "%\n",
    "% delete k.txt\n",
    "save xc.txt x_f -ascii\n",
    "save yc.txt y_f -ascii\n",
    "save fc.txt f_f -ascii\n",
    "save S.txt eps2 -ascii\n",
    "save S0.txt S -ascii\n",
    "save bw.txt BW -ascii\n",
    "save bw0.txt BW -ascii\n",
    "save C.txt BW -ascii \n",
    "save wl.txt wl -ascii \n",
    "% save k.txt k -as\n",
    "unix('./run2.sh'); \n",
    "%\n",
    "formatSpec='%f'; \n",
    "fileID = fopen(['x.txt'], 'r');\n",
    "xout = fscanf(fileID,formatSpec);\n",
    "fclose(fileID); \n",
    "fileID = fopen(['y.txt'], 'r');\n",
    "yout = fscanf( fileID, formatSpec);\n",
    "fclose( fileID );\n",
    "fileID = fopen(['phi.txt'], 'r');\n",
    "pout = fscanf(fileID,formatSpec);\n",
    "fclose(fileID);\n",
    "fileID=fopen(['t.txt'], 'r');\n",
    "to = fscanf(fileID,formatSpec);\n",
    "fclose(fileID);\n",
    "t=to(1:N:end);\n",
    "nout_0=length(t);\n",
    "nout=round(nout_0)-1;\n",
    "data_o =zeros(N,nout_0);\n",
    "x_o=zeros(N,nout_0);\n",
    "y_o=zeros(N,nout_0);\n",
    "p_o=zeros(N,nout_0);\n",
    "for i=1:N\n",
    "for j=1:nout_0\n",
    "x_o(i,j)=xout(i+N*(j-1),1);\n",
    "y_o(i,j)=yout(i+N*(j-1),1);\n",
    "p_o(i,j)=pout(i+N*(j-1),1);\n",
    "end\n",
    "end\n",
    "tf=islocalmin(x_o(:,end));\n",
    "xi=0:2*pi/N:2*pi*(1-1/N);\n",
    "dxi=abs(xi(2)-xi(1));\n",
    "% need to create the structure \n",
    "% ii =1;\n",
    "data.x = x_o;\n",
    "data.y = y_o;\n",
    "data.p = p_o;\n",
    "data.t = t; \n",
    "data.N = N;\n",
    "data.S = S;\n",
    "data.BW = D;\n",
    "data.xb = xb;\n",
    "data.tb = tb;\n",
    "data.k = k;\n",
    "data.omega = w;\n",
    "data.wl = wl;\n",
    "data.x_0 = x_f;\n",
    "data.y_0 = y_f;\n",
    "data.f_0 = f_f;\n",
    "data.broken = max(tf);\n",
    "foc{ii,jj} = data; \n",
    "save('foc.mat', 'foc')\n",
    "ii\n",
    "jj\n",
    "if(max(tf)==1)\n",
    "    disp(\"broken\")\n",
    "    else\n",
    "    disp(\"not broken\")\n",
    "end\n",
    "end\n",
    "end"
   ]
  },
  {
   "cell_type": "code",
   "execution_count": 190,
   "metadata": {},
   "outputs": [
    {
     "data": {
      "image/png": "[encoded data removed]"
     },
     "metadata": {},
     "output_type": "display_data"
    }
   ],
   "source": [
    "clf\n",
    "set(gca,'fontsize',28)\n",
    "for i=1:35:length(t)\n",
    "plot(x_o(:,i),150*y_o(:,i)+1/2*t(i),'r')\n",
    "% pause(0.1)\n",
    "hold on\n",
    "% xlim([0 2*pi])\n",
    "% ylim([-1e-2 1e-2]) \n",
    "end\n",
    "% set(gca,'fontsize',28)\n",
    "xlabel('X','interpreter','latex')\n",
    "ylabel('$Y$','interpreter','latex')"
   ]
  },
  {
   "cell_type": "code",
   "execution_count": 194,
   "metadata": {},
   "outputs": [
    {
     "data": {
      "image/png": "[encoded data removed]"
     },
     "metadata": {},
     "output_type": "display_data"
    }
   ],
   "source": [
    "clf\n",
    "set(gca,'fontsize',28)\n",
    "plot(x_o(:,end),y_o(:,end),'r')\n",
    "%xlim([1.9 2.1])\n",
    "%ylim([-.002 .002])\n",
    "xlabel('X','interpreter','latex')\n",
    "ylabel('$Y$','interpreter','latex')"
   ]
  },
  {
   "cell_type": "markdown",
   "metadata": {},
   "source": [
    "Goals\n",
    "----\n",
    "How can we tell a wave has broken?\n",
    "Check this against data.\n",
    "Plot bandwidth (D) and S. Color each point black or red depending on if the wave broke.\n",
    "Then do the same thing with double the resolution (1024 instead of 512) and compare them."
   ]
  },
  {
   "cell_type": "code",
   "execution_count": 208,
   "metadata": {},
   "outputs": [
    {
     "data": {
      "image/png": "[encoded data removed]"
     },
     "metadata": {},
     "output_type": "display_data"
    }
   ],
   "source": [
    "for ii=1:10\n",
    "for jj=1:10\n",
    "blurgh=cell2mat(foc(ii,jj));\n",
    "if(blurgh.broken==1)\n",
    "plot(blurgh.S,blurgh.BW, 'ok')\n",
    "hold on\n",
    "else\n",
    "plot(blurgh.S,blurgh.BW,'or')\n",
    "end\n",
    "end\n",
    "end\n",
    "xlabel('S')\n",
    "ylabel('D')"
   ]
  },
  {
   "cell_type": "code",
   "execution_count": 201,
   "metadata": {},
   "outputs": [
    {
     "name": "stdout",
     "output_type": "stream",
     "text": [
      "\n",
      "blurgh = \n",
      "\n",
      "  struct with fields:\n",
      "\n",
      "         x: [512x451 double]\n",
      "         y: [512x451 double]\n",
      "         p: [512x451 double]\n",
      "         t: [451x1 double]\n",
      "         N: 512\n",
      "         S: 0.1000\n",
      "        BW: 0.5000\n",
      "        xb: 30\n",
      "        tb: 38.4293\n",
      "         k: 4.0243\n",
      "     omega: 6.2832\n",
      "        wl: 100\n",
      "       x_0: [512x1 double]\n",
      "       y_0: [1x512 double]\n",
      "       f_0: [1x512 double]\n",
      "    broken: 0\n",
      "\n"
     ]
    }
   ],
   "source": [
    "blurgh=cell2mat(foc(1,1))"
   ]
  },
  {
   "cell_type": "code",
   "execution_count": 202,
   "metadata": {},
   "outputs": [
    {
     "name": "stdout",
     "output_type": "stream",
     "text": [
      "\n",
      "ans =\n",
      "\n",
      "    0.1000\n",
      "\n"
     ]
    }
   ],
   "source": [
    "blurgh.S"
   ]
  },
  {
   "cell_type": "code",
   "execution_count": null,
   "metadata": {},
   "outputs": [],
   "source": []
  },
  {
   "cell_type": "code",
   "execution_count": null,
   "metadata": {},
   "outputs": [],
   "source": []
  }
 ],
 "metadata": {
  "kernelspec": {
   "display_name": "MATLAB",
   "language": "matlab",
   "name": "imatlab"
  },
  "language_info": {
   "codemirror_mode": "octave",
   "file_extension": ".m",
   "mimetype": "text/x-matlab",
   "name": "matlab",
   "nbconvert_exporter": "imatlab._exporter.MatlabExporter",
   "pygments_lexer": "matlab",
   "version": "9.4.0.813654 (R2018a)"
  }
 },
 "nbformat": 4,
 "nbformat_minor": 4
}
