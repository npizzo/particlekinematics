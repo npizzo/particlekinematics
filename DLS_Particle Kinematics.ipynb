{
 "cells": [
  {
   "cell_type": "markdown",
   "metadata": {},
   "source": [
    "In this notebook, we will examine particle kinematics in steep and breaking waves. We will study several properties of these waves as they focus and break, including particle velocities and accelerations, as well as the phase velocity. We're also interested in the spatial distribution of these quantities. That is, how does the ratio of the horizontal velocity, divided by the phase velocity, at the crest compare with that at the steepest part of the wave? \n",
    "\n",
    "We should start with some definitions. \n",
    "\n",
    "We let $(x,y)$ define the horizontal and vertical axis, with their associated velocities being $(u,v)$. The velocity field may be defined in the $\\textbf{Eulerian}$ framework, in which it is evaluated at a point in space, or the $\\textbf{Lagrangian}$ framework, in which it is defined for a fluid particle, which was at location $(x_0,y_0)$ at $t=0$. \n",
    "\n",
    "The phase velocity is defined as the speed at which a fixed phase of the wave is traveling. This could, for example, be the crest of the wave. However, as the wave steepens, different phases of the wave travel at different speeds, and the notion of the phase may even break down at wave breaking. Then, we seek a more geometric defintion. Longuet-Higgins sorted this out in 1957. If we track the crest of the wave, with wave height $\\eta$, then the speed at which the tallest part of the wave, i.e. the crest, moves is given by\n",
    "$$ \\frac{d\\eta_x}{dt} =0 = \\eta_{xt}+c_m\\eta_{xx},$$\n",
    "from which the phase velocity of the maximum height $c_m$ may be extracted. Similarly, if we were instead interested in the speed at which the steepest part of the wave travelled, we would find $c_s$ through the relationship \n",
    "$$ \\frac{d\\eta_{xx}}{dt} =0=\\eta_{xxt}+c_s\\eta_{xxx}.$$\n",
    "\n",
    "In general, we expect $c_{m} \\neq c_{s}$."
   ]
  },
  {
   "cell_type": "markdown",
   "metadata": {},
   "source": [
    "To this end, we will examine these kinematics by integrating the fully nonlinear potential flow equations. The dependent variables of the system are the particle positions $(x,y)$, and the velocity potential $\\phi$. "
   ]
  },
  {
   "cell_type": "markdown",
   "metadata": {},
   "source": [
    "The numerical scheme is due to Dold (1992). The boundary conditions are assumed to be periodic, and we work in infinitely deep water. \n",
    "\n",
    "We would like to begin by validating some of our processing. This is most easily done by considering a periodic wave. "
   ]
  },
  {
   "cell_type": "code",
   "execution_count": null,
   "metadata": {},
   "outputs": [],
   "source": []
  }
 ],
 "metadata": {
  "kernelspec": {
   "display_name": "Matlab",
   "language": "matlab",
   "name": "matlab"
  },
  "language_info": {
   "codemirror_mode": "octave",
   "file_extension": ".m",
   "help_links": [
    {
     "text": "MetaKernel Magics",
     "url": "https://metakernel.readthedocs.io/en/latest/source/README.html"
    }
   ],
   "mimetype": "text/x-octave",
   "name": "matlab",
   "version": "0.16.9"
  }
 },
 "nbformat": 4,
 "nbformat_minor": 4
}
